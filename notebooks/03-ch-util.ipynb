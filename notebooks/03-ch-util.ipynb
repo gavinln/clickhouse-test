{
 "cells": [
  {
   "cell_type": "markdown",
   "metadata": {
    "Collapsed": "false"
   },
   "source": [
    "# Clickhouse utilities"
   ]
  },
  {
   "cell_type": "markdown",
   "metadata": {},
   "source": [
    "Connect to clickhouse database"
   ]
  },
  {
   "cell_type": "code",
   "execution_count": 2,
   "metadata": {
    "Collapsed": "false",
    "ExecuteTime": {
     "end_time": "2020-02-25T04:27:25.755069Z",
     "start_time": "2020-02-25T04:27:25.703638Z"
    }
   },
   "outputs": [],
   "source": [
    "import numpy as np\n",
    "import numpy\n",
    "import inspect\n",
    "import pandas as pd\n",
    "import sqlalchemy as sa\n",
    "from sqlalchemy.orm import sessionmaker\n",
    "from sqlalchemy import func\n",
    "\n",
    "import clickhouse_util as ch_util\n",
    "from clickhouse_util import get_clickhouse_create_sql"
   ]
  },
  {
   "cell_type": "code",
   "execution_count": 3,
   "metadata": {
    "ExecuteTime": {
     "end_time": "2020-02-25T04:27:25.814812Z",
     "start_time": "2020-02-25T04:27:25.759206Z"
    }
   },
   "outputs": [],
   "source": [
    "%load_ext autoreload\n",
    "%autoreload 2"
   ]
  },
  {
   "cell_type": "markdown",
   "metadata": {},
   "source": [
    "Create SqlAlchemy engine"
   ]
  },
  {
   "cell_type": "code",
   "execution_count": 4,
   "metadata": {},
   "outputs": [],
   "source": [
    "ch_url = 'clickhouse+native://default:@localhost/default'\n",
    "engine = sa.create_engine(ch_url)"
   ]
  },
  {
   "cell_type": "markdown",
   "metadata": {},
   "source": [
    "Get tables"
   ]
  },
  {
   "cell_type": "code",
   "execution_count": 8,
   "metadata": {},
   "outputs": [
    {
     "data": {
      "text/html": [
       "<div>\n",
       "<style scoped>\n",
       "    .dataframe tbody tr th:only-of-type {\n",
       "        vertical-align: middle;\n",
       "    }\n",
       "\n",
       "    .dataframe tbody tr th {\n",
       "        vertical-align: top;\n",
       "    }\n",
       "\n",
       "    .dataframe thead th {\n",
       "        text-align: right;\n",
       "    }\n",
       "</style>\n",
       "<table border=\"1\" class=\"dataframe\">\n",
       "  <thead>\n",
       "    <tr style=\"text-align: right;\">\n",
       "      <th></th>\n",
       "      <th>name</th>\n",
       "    </tr>\n",
       "  </thead>\n",
       "  <tbody>\n",
       "    <tr>\n",
       "      <th>0</th>\n",
       "      <td>.inner_id.3489d528-1eb4-44a7-b489-d5281eb444a7</td>\n",
       "    </tr>\n",
       "    <tr>\n",
       "      <th>1</th>\n",
       "      <td>flight</td>\n",
       "    </tr>\n",
       "    <tr>\n",
       "      <th>2</th>\n",
       "      <td>flight_view</td>\n",
       "    </tr>\n",
       "    <tr>\n",
       "      <th>3</th>\n",
       "      <td>visits</td>\n",
       "    </tr>\n",
       "  </tbody>\n",
       "</table>\n",
       "</div>"
      ],
      "text/plain": [
       "                                             name\n",
       "0  .inner_id.3489d528-1eb4-44a7-b489-d5281eb444a7\n",
       "1                                          flight\n",
       "2                                     flight_view\n",
       "3                                          visits"
      ]
     },
     "execution_count": 8,
     "metadata": {},
     "output_type": "execute_result"
    }
   ],
   "source": [
    "sql = \"show tables from default\"\n",
    "pd.read_sql(sql, engine)"
   ]
  },
  {
   "cell_type": "code",
   "execution_count": 12,
   "metadata": {},
   "outputs": [
    {
     "data": {
      "text/html": [
       "<div>\n",
       "<style scoped>\n",
       "    .dataframe tbody tr th:only-of-type {\n",
       "        vertical-align: middle;\n",
       "    }\n",
       "\n",
       "    .dataframe tbody tr th {\n",
       "        vertical-align: top;\n",
       "    }\n",
       "\n",
       "    .dataframe thead th {\n",
       "        text-align: right;\n",
       "    }\n",
       "</style>\n",
       "<table border=\"1\" class=\"dataframe\">\n",
       "  <thead>\n",
       "    <tr style=\"text-align: right;\">\n",
       "      <th></th>\n",
       "      <th>database</th>\n",
       "      <th>type</th>\n",
       "      <th>name</th>\n",
       "      <th>type</th>\n",
       "      <th>position</th>\n",
       "    </tr>\n",
       "  </thead>\n",
       "  <tbody>\n",
       "    <tr>\n",
       "      <th>0</th>\n",
       "      <td>default</td>\n",
       "      <td>Int16</td>\n",
       "      <td>Year</td>\n",
       "      <td>Int16</td>\n",
       "      <td>1</td>\n",
       "    </tr>\n",
       "    <tr>\n",
       "      <th>1</th>\n",
       "      <td>default</td>\n",
       "      <td>Int8</td>\n",
       "      <td>Month</td>\n",
       "      <td>Int8</td>\n",
       "      <td>2</td>\n",
       "    </tr>\n",
       "    <tr>\n",
       "      <th>2</th>\n",
       "      <td>default</td>\n",
       "      <td>Int16</td>\n",
       "      <td>DayofMonth</td>\n",
       "      <td>Int16</td>\n",
       "      <td>3</td>\n",
       "    </tr>\n",
       "    <tr>\n",
       "      <th>3</th>\n",
       "      <td>default</td>\n",
       "      <td>Int8</td>\n",
       "      <td>DayOfWeek</td>\n",
       "      <td>Int8</td>\n",
       "      <td>4</td>\n",
       "    </tr>\n",
       "    <tr>\n",
       "      <th>4</th>\n",
       "      <td>default</td>\n",
       "      <td>Nullable(Int16)</td>\n",
       "      <td>DepTime</td>\n",
       "      <td>Nullable(Int16)</td>\n",
       "      <td>5</td>\n",
       "    </tr>\n",
       "    <tr>\n",
       "      <th>5</th>\n",
       "      <td>default</td>\n",
       "      <td>Int16</td>\n",
       "      <td>CRSDepTime</td>\n",
       "      <td>Int16</td>\n",
       "      <td>6</td>\n",
       "    </tr>\n",
       "    <tr>\n",
       "      <th>6</th>\n",
       "      <td>default</td>\n",
       "      <td>Nullable(Int16)</td>\n",
       "      <td>ArrTime</td>\n",
       "      <td>Nullable(Int16)</td>\n",
       "      <td>7</td>\n",
       "    </tr>\n",
       "    <tr>\n",
       "      <th>7</th>\n",
       "      <td>default</td>\n",
       "      <td>Int16</td>\n",
       "      <td>CRSArrTime</td>\n",
       "      <td>Int16</td>\n",
       "      <td>8</td>\n",
       "    </tr>\n",
       "    <tr>\n",
       "      <th>8</th>\n",
       "      <td>default</td>\n",
       "      <td>String</td>\n",
       "      <td>UniqueCarrier</td>\n",
       "      <td>String</td>\n",
       "      <td>9</td>\n",
       "    </tr>\n",
       "    <tr>\n",
       "      <th>9</th>\n",
       "      <td>default</td>\n",
       "      <td>Int32</td>\n",
       "      <td>FlightNum</td>\n",
       "      <td>Int32</td>\n",
       "      <td>10</td>\n",
       "    </tr>\n",
       "    <tr>\n",
       "      <th>10</th>\n",
       "      <td>default</td>\n",
       "      <td>Nullable(String)</td>\n",
       "      <td>TailNum</td>\n",
       "      <td>Nullable(String)</td>\n",
       "      <td>11</td>\n",
       "    </tr>\n",
       "    <tr>\n",
       "      <th>11</th>\n",
       "      <td>default</td>\n",
       "      <td>Nullable(Int32)</td>\n",
       "      <td>ActualElapsedTime</td>\n",
       "      <td>Nullable(Int32)</td>\n",
       "      <td>12</td>\n",
       "    </tr>\n",
       "    <tr>\n",
       "      <th>12</th>\n",
       "      <td>default</td>\n",
       "      <td>Nullable(Int32)</td>\n",
       "      <td>CRSElapsedTime</td>\n",
       "      <td>Nullable(Int32)</td>\n",
       "      <td>13</td>\n",
       "    </tr>\n",
       "    <tr>\n",
       "      <th>13</th>\n",
       "      <td>default</td>\n",
       "      <td>Nullable(Int32)</td>\n",
       "      <td>AirTime</td>\n",
       "      <td>Nullable(Int32)</td>\n",
       "      <td>14</td>\n",
       "    </tr>\n",
       "    <tr>\n",
       "      <th>14</th>\n",
       "      <td>default</td>\n",
       "      <td>Nullable(Int32)</td>\n",
       "      <td>ArrDelay</td>\n",
       "      <td>Nullable(Int32)</td>\n",
       "      <td>15</td>\n",
       "    </tr>\n",
       "    <tr>\n",
       "      <th>15</th>\n",
       "      <td>default</td>\n",
       "      <td>Nullable(Int32)</td>\n",
       "      <td>DepDelay</td>\n",
       "      <td>Nullable(Int32)</td>\n",
       "      <td>16</td>\n",
       "    </tr>\n",
       "    <tr>\n",
       "      <th>16</th>\n",
       "      <td>default</td>\n",
       "      <td>String</td>\n",
       "      <td>Origin</td>\n",
       "      <td>String</td>\n",
       "      <td>17</td>\n",
       "    </tr>\n",
       "    <tr>\n",
       "      <th>17</th>\n",
       "      <td>default</td>\n",
       "      <td>String</td>\n",
       "      <td>Dest</td>\n",
       "      <td>String</td>\n",
       "      <td>18</td>\n",
       "    </tr>\n",
       "    <tr>\n",
       "      <th>18</th>\n",
       "      <td>default</td>\n",
       "      <td>Nullable(Int32)</td>\n",
       "      <td>Distance</td>\n",
       "      <td>Nullable(Int32)</td>\n",
       "      <td>19</td>\n",
       "    </tr>\n",
       "    <tr>\n",
       "      <th>19</th>\n",
       "      <td>default</td>\n",
       "      <td>Nullable(Int32)</td>\n",
       "      <td>TaxiIn</td>\n",
       "      <td>Nullable(Int32)</td>\n",
       "      <td>20</td>\n",
       "    </tr>\n",
       "    <tr>\n",
       "      <th>20</th>\n",
       "      <td>default</td>\n",
       "      <td>Nullable(Int32)</td>\n",
       "      <td>TaxiOut</td>\n",
       "      <td>Nullable(Int32)</td>\n",
       "      <td>21</td>\n",
       "    </tr>\n",
       "    <tr>\n",
       "      <th>21</th>\n",
       "      <td>default</td>\n",
       "      <td>Int8</td>\n",
       "      <td>Cancelled</td>\n",
       "      <td>Int8</td>\n",
       "      <td>22</td>\n",
       "    </tr>\n",
       "    <tr>\n",
       "      <th>22</th>\n",
       "      <td>default</td>\n",
       "      <td>Nullable(String)</td>\n",
       "      <td>CancellationCode</td>\n",
       "      <td>Nullable(String)</td>\n",
       "      <td>23</td>\n",
       "    </tr>\n",
       "    <tr>\n",
       "      <th>23</th>\n",
       "      <td>default</td>\n",
       "      <td>Int8</td>\n",
       "      <td>Diverted</td>\n",
       "      <td>Int8</td>\n",
       "      <td>24</td>\n",
       "    </tr>\n",
       "    <tr>\n",
       "      <th>24</th>\n",
       "      <td>default</td>\n",
       "      <td>Nullable(Int32)</td>\n",
       "      <td>CarrierDelay</td>\n",
       "      <td>Nullable(Int32)</td>\n",
       "      <td>25</td>\n",
       "    </tr>\n",
       "    <tr>\n",
       "      <th>25</th>\n",
       "      <td>default</td>\n",
       "      <td>Nullable(Int32)</td>\n",
       "      <td>WeatherDelay</td>\n",
       "      <td>Nullable(Int32)</td>\n",
       "      <td>26</td>\n",
       "    </tr>\n",
       "    <tr>\n",
       "      <th>26</th>\n",
       "      <td>default</td>\n",
       "      <td>Nullable(Int32)</td>\n",
       "      <td>NASDelay</td>\n",
       "      <td>Nullable(Int32)</td>\n",
       "      <td>27</td>\n",
       "    </tr>\n",
       "    <tr>\n",
       "      <th>27</th>\n",
       "      <td>default</td>\n",
       "      <td>Nullable(Int32)</td>\n",
       "      <td>SecurityDelay</td>\n",
       "      <td>Nullable(Int32)</td>\n",
       "      <td>28</td>\n",
       "    </tr>\n",
       "    <tr>\n",
       "      <th>28</th>\n",
       "      <td>default</td>\n",
       "      <td>Nullable(Int32)</td>\n",
       "      <td>LateAircraftDelay</td>\n",
       "      <td>Nullable(Int32)</td>\n",
       "      <td>29</td>\n",
       "    </tr>\n",
       "  </tbody>\n",
       "</table>\n",
       "</div>"
      ],
      "text/plain": [
       "   database              type               name              type  position\n",
       "0   default             Int16               Year             Int16         1\n",
       "1   default              Int8              Month              Int8         2\n",
       "2   default             Int16         DayofMonth             Int16         3\n",
       "3   default              Int8          DayOfWeek              Int8         4\n",
       "4   default   Nullable(Int16)            DepTime   Nullable(Int16)         5\n",
       "5   default             Int16         CRSDepTime             Int16         6\n",
       "6   default   Nullable(Int16)            ArrTime   Nullable(Int16)         7\n",
       "7   default             Int16         CRSArrTime             Int16         8\n",
       "8   default            String      UniqueCarrier            String         9\n",
       "9   default             Int32          FlightNum             Int32        10\n",
       "10  default  Nullable(String)            TailNum  Nullable(String)        11\n",
       "11  default   Nullable(Int32)  ActualElapsedTime   Nullable(Int32)        12\n",
       "12  default   Nullable(Int32)     CRSElapsedTime   Nullable(Int32)        13\n",
       "13  default   Nullable(Int32)            AirTime   Nullable(Int32)        14\n",
       "14  default   Nullable(Int32)           ArrDelay   Nullable(Int32)        15\n",
       "15  default   Nullable(Int32)           DepDelay   Nullable(Int32)        16\n",
       "16  default            String             Origin            String        17\n",
       "17  default            String               Dest            String        18\n",
       "18  default   Nullable(Int32)           Distance   Nullable(Int32)        19\n",
       "19  default   Nullable(Int32)             TaxiIn   Nullable(Int32)        20\n",
       "20  default   Nullable(Int32)            TaxiOut   Nullable(Int32)        21\n",
       "21  default              Int8          Cancelled              Int8        22\n",
       "22  default  Nullable(String)   CancellationCode  Nullable(String)        23\n",
       "23  default              Int8           Diverted              Int8        24\n",
       "24  default   Nullable(Int32)       CarrierDelay   Nullable(Int32)        25\n",
       "25  default   Nullable(Int32)       WeatherDelay   Nullable(Int32)        26\n",
       "26  default   Nullable(Int32)           NASDelay   Nullable(Int32)        27\n",
       "27  default   Nullable(Int32)      SecurityDelay   Nullable(Int32)        28\n",
       "28  default   Nullable(Int32)  LateAircraftDelay   Nullable(Int32)        29"
      ]
     },
     "execution_count": 12,
     "metadata": {},
     "output_type": "execute_result"
    }
   ],
   "source": [
    "sql = \"select database, type, name, type, position from system.columns where database = 'default' and table = 'flight'\"\n",
    "pd.read_sql(sql, engine)"
   ]
  },
  {
   "cell_type": "markdown",
   "metadata": {},
   "source": [
    "Use pandas to read from SqlAlchemy engine"
   ]
  },
  {
   "cell_type": "code",
   "execution_count": 14,
   "metadata": {
    "Collapsed": "false",
    "ExecuteTime": {
     "end_time": "2020-02-25T04:38:39.126620Z",
     "start_time": "2020-02-25T04:38:20.327579Z"
    }
   },
   "outputs": [],
   "source": [
    "sql = 'select * from flight limit 100000'\n",
    "df = pd.read_sql(sql, engine)"
   ]
  },
  {
   "cell_type": "markdown",
   "metadata": {},
   "source": [
    "Get create sql"
   ]
  },
  {
   "cell_type": "code",
   "execution_count": 15,
   "metadata": {
    "ExecuteTime": {
     "end_time": "2020-02-25T04:54:45.329330Z",
     "start_time": "2020-02-25T04:54:45.282268Z"
    },
    "tags": []
   },
   "outputs": [
    {
     "name": "stdout",
     "output_type": "stream",
     "text": [
      "create table flight (\n",
      "\tYear Int64,\n",
      "\tMonth Nullable(Int64),\n",
      "\tDayofMonth Nullable(Int64),\n",
      "\tDayOfWeek Nullable(Int64),\n",
      "\tDepTime Nullable(Float64),\n",
      "\tCRSDepTime Nullable(Int64),\n",
      "\tArrTime Nullable(Float64),\n",
      "\tCRSArrTime Nullable(Int64),\n",
      "\tUniqueCarrier Nullable(String),\n",
      "\tFlightNum Nullable(Int64),\n",
      "\tTailNum Nullable(String),\n",
      "\tActualElapsedTime Nullable(Float64),\n",
      "\tCRSElapsedTime Nullable(Float64),\n",
      "\tAirTime Nullable(Float64),\n",
      "\tArrDelay Nullable(Float64),\n",
      "\tDepDelay Nullable(Float64),\n",
      "\tOrigin Nullable(String),\n",
      "\tDest Nullable(String),\n",
      "\tDistance Nullable(Int64),\n",
      "\tTaxiIn Nullable(Float64),\n",
      "\tTaxiOut Nullable(Float64),\n",
      "\tCancelled Nullable(Int64),\n",
      "\tCancellationCode Nullable(String),\n",
      "\tDiverted Nullable(Int64),\n",
      "\tCarrierDelay Nullable(String),\n",
      "\tWeatherDelay Nullable(String),\n",
      "\tNASDelay Nullable(String),\n",
      "\tSecurityDelay Nullable(String),\n",
      "\tLateAircraftDelay Nullable(String)\n",
      ")\n",
      "Engine = MergeTree\n",
      "Order by Year\n"
     ]
    }
   ],
   "source": [
    "print(get_clickhouse_create_sql(df, 'flight', ['Year']))"
   ]
  },
  {
   "cell_type": "code",
   "execution_count": 18,
   "metadata": {
    "ExecuteTime": {
     "end_time": "2020-02-25T04:54:49.670932Z",
     "start_time": "2020-02-25T04:54:49.563944Z"
    }
   },
   "outputs": [
    {
     "name": "stdout",
     "output_type": "stream",
     "text": [
      "Year\n",
      "Month\n",
      "DayofMonth\n",
      "DayOfWeek\n",
      "DepTime\n",
      "CRSDepTime\n",
      "ArrTime\n",
      "CRSArrTime\n",
      "UniqueCarrier\n",
      "FlightNum\n",
      "TailNum\n",
      "ActualElapsedTime\n",
      "CRSElapsedTime\n",
      "AirTime\n",
      "ArrDelay\n",
      "DepDelay\n",
      "Origin\n",
      "Dest\n",
      "Distance\n",
      "TaxiIn\n",
      "TaxiOut\n",
      "Cancelled\n",
      "CancellationCode\n",
      "Diverted\n",
      "CarrierDelay\n",
      "WeatherDelay\n",
      "NASDelay\n",
      "SecurityDelay\n",
      "LateAircraftDelay\n"
     ]
    }
   ],
   "source": [
    "metadata = sa.MetaData(bind=engine)\n",
    "metadata.reflect(only=['flight'])\n",
    "flight_tbl = metadata.tables['flight']\n",
    "\n",
    "for column in flight_tbl.columns:\n",
    "    print(column.name)"
   ]
  },
  {
   "cell_type": "markdown",
   "metadata": {},
   "source": [
    "Use SqlAlchemy ORM to query the database"
   ]
  },
  {
   "cell_type": "code",
   "execution_count": 20,
   "metadata": {
    "ExecuteTime": {
     "end_time": "2020-02-25T04:54:52.691137Z",
     "start_time": "2020-02-25T04:54:52.132233Z"
    }
   },
   "outputs": [
    {
     "name": "stdout",
     "output_type": "stream",
     "text": [
      "(1988, 2, 29, 1, 957, 1000, 1054, 1104, 'PI', 894, None, 57, 64, None, -10, -3, 'DCA', 'SYR', 298, None, None, 0, None, 0, None, None, None, None, None)\n",
      "(1988, 2, 29, 1, 704, 705, 746, 749, 'PI', 894, None, 42, 44, None, -3, -1, 'JAX', 'CHS', 193, None, None, 0, None, 0, None, None, None, None, None)\n",
      "(1988, 2, 29, 1, 1121, 1125, 1204, 1200, 'PI', 894, None, 43, 35, None, 4, -4, 'SYR', 'BUF', 134, None, None, 0, None, 0, None, None, None, None, None)\n",
      "(1988, 2, 29, 1, 1624, 1625, 1711, 1710, 'PI', 895, None, 47, 45, None, 1, -1, 'JFK', 'BDL', 106, None, None, 0, None, 0, None, None, None, None, None)\n",
      "(1988, 2, 29, 1, 2200, 2147, 2230, 2227, 'PI', 896, None, 30, 40, None, 3, 13, 'BWI', 'CHO', 120, None, None, 0, None, 0, None, None, None, None, None)\n",
      "(1988, 2, 29, 1, 1825, 1820, 1929, 1930, 'PI', 896, None, 64, 70, None, -1, 5, 'LGA', 'ROC', 254, None, None, 0, None, 0, None, None, None, None, None)\n",
      "(1988, 2, 29, 1, 1954, 2000, 2057, 2104, 'PI', 896, None, 63, 64, None, -7, -6, 'ROC', 'BWI', 277, None, None, 0, None, 0, None, None, None, None, None)\n",
      "(1988, 2, 29, 1, 1800, 1800, 1848, 1850, 'PI', 897, None, 48, 50, None, -2, 0, 'BDL', 'EWR', 116, None, None, 0, None, 0, None, None, None, None, None)\n",
      "(1988, 2, 29, 1, 1912, 1915, 1957, 2000, 'PI', 897, None, 45, 45, None, -3, -3, 'EWR', 'UCA', 180, None, None, 0, None, 0, None, None, None, None, None)\n",
      "(1988, 2, 29, 1, 632, 630, 713, 705, 'PI', 898, None, 41, 35, None, 8, 2, 'BUF', 'SYR', 134, None, None, 0, None, 0, None, None, None, None, None)\n"
     ]
    }
   ],
   "source": [
    "Session = sessionmaker(bind=engine)\n",
    "session = Session()\n",
    "\n",
    "qry = session.query(flight_tbl)\n",
    "\n",
    "for row in session.query(flight_tbl).filter(\n",
    "        flight_tbl.c.Month == 2, flight_tbl.c.DayofMonth == 29).limit(10):\n",
    "    print(row)"
   ]
  }
 ],
 "metadata": {
  "kernelspec": {
   "display_name": "Python 3 (ipykernel)",
   "language": "python",
   "name": "python3"
  },
  "language_info": {
   "codemirror_mode": {
    "name": "ipython",
    "version": 3
   },
   "file_extension": ".py",
   "mimetype": "text/x-python",
   "name": "python",
   "nbconvert_exporter": "python",
   "pygments_lexer": "ipython3",
   "version": "3.8.10"
  },
  "toc": {
   "base_numbering": 1,
   "nav_menu": {},
   "number_sections": true,
   "sideBar": true,
   "skip_h1_title": false,
   "title_cell": "Table of Contents",
   "title_sidebar": "Contents",
   "toc_cell": false,
   "toc_position": {},
   "toc_section_display": true,
   "toc_window_display": false
  }
 },
 "nbformat": 4,
 "nbformat_minor": 4
}
