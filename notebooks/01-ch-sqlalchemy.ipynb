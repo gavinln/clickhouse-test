{
 "cells": [
  {
   "cell_type": "markdown",
   "metadata": {
    "Collapsed": "false"
   },
   "source": [
    "# Clickhouse sql alchemy"
   ]
  },
  {
   "cell_type": "markdown",
   "metadata": {},
   "source": [
    "Connect to clickhouse database using sqlalchemy and clickhouse driver - https://pypi.org/project/clickhouse-sqlalchemy/"
   ]
  },
  {
   "cell_type": "code",
   "execution_count": 20,
   "metadata": {
    "Collapsed": "false",
    "ExecuteTime": {
     "end_time": "2020-02-25T04:27:25.755069Z",
     "start_time": "2020-02-25T04:27:25.703638Z"
    }
   },
   "outputs": [],
   "source": [
    "import numpy as np\n",
    "import numpy\n",
    "import inspect\n",
    "import pandas as pd\n",
    "import sqlalchemy as sa\n",
    "from sqlalchemy.orm import sessionmaker\n",
    "from sqlalchemy import func"
   ]
  },
  {
   "cell_type": "code",
   "execution_count": 21,
   "metadata": {
    "ExecuteTime": {
     "end_time": "2020-02-25T04:27:25.814812Z",
     "start_time": "2020-02-25T04:27:25.759206Z"
    }
   },
   "outputs": [
    {
     "name": "stdout",
     "output_type": "stream",
     "text": [
      "The autoreload extension is already loaded. To reload it, use:\n",
      "  %reload_ext autoreload\n"
     ]
    }
   ],
   "source": [
    "%load_ext autoreload\n",
    "%autoreload 2"
   ]
  },
  {
   "cell_type": "markdown",
   "metadata": {},
   "source": [
    "Create SqlAlchemy engine"
   ]
  },
  {
   "cell_type": "code",
   "execution_count": 22,
   "metadata": {
    "Collapsed": "false",
    "ExecuteTime": {
     "end_time": "2020-02-25T04:27:25.956751Z",
     "start_time": "2020-02-25T04:27:25.903710Z"
    }
   },
   "outputs": [],
   "source": [
    "ch_url = 'clickhouse+native://default:@localhost/default'\n",
    "engine = sa.create_engine(ch_url)"
   ]
  },
  {
   "cell_type": "markdown",
   "metadata": {},
   "source": [
    "Create reusable function"
   ]
  },
  {
   "cell_type": "code",
   "execution_count": 23,
   "metadata": {},
   "outputs": [],
   "source": [
    "def execute_sql(engine, sql):\n",
    "    with engine.begin() as conn:\n",
    "        result = conn.execute(sql)\n",
    "        for row in result:\n",
    "            print(row)"
   ]
  },
  {
   "cell_type": "markdown",
   "metadata": {},
   "source": [
    "Get list of tables"
   ]
  },
  {
   "cell_type": "code",
   "execution_count": 24,
   "metadata": {},
   "outputs": [
    {
     "name": "stdout",
     "output_type": "stream",
     "text": [
      "('.inner_id.3489d528-1eb4-44a7-b489-d5281eb444a7',)\n",
      "('flight',)\n",
      "('flight_view',)\n",
      "('visits',)\n"
     ]
    }
   ],
   "source": [
    "execute_sql(engine, 'show tables')"
   ]
  },
  {
   "cell_type": "markdown",
   "metadata": {},
   "source": [
    "Get table metadata"
   ]
  },
  {
   "cell_type": "markdown",
   "metadata": {},
   "source": [
    "Use pandas to read from SqlAlchemy engine"
   ]
  },
  {
   "cell_type": "code",
   "execution_count": 25,
   "metadata": {
    "Collapsed": "false",
    "ExecuteTime": {
     "end_time": "2020-02-25T04:38:39.126620Z",
     "start_time": "2020-02-25T04:38:20.327579Z"
    }
   },
   "outputs": [
    {
     "data": {
      "text/html": [
       "<div>\n",
       "<style scoped>\n",
       "    .dataframe tbody tr th:only-of-type {\n",
       "        vertical-align: middle;\n",
       "    }\n",
       "\n",
       "    .dataframe tbody tr th {\n",
       "        vertical-align: top;\n",
       "    }\n",
       "\n",
       "    .dataframe thead th {\n",
       "        text-align: right;\n",
       "    }\n",
       "</style>\n",
       "<table border=\"1\" class=\"dataframe\">\n",
       "  <thead>\n",
       "    <tr style=\"text-align: right;\">\n",
       "      <th></th>\n",
       "      <th>database</th>\n",
       "      <th>name</th>\n",
       "      <th>uuid</th>\n",
       "      <th>engine</th>\n",
       "      <th>is_temporary</th>\n",
       "      <th>data_paths</th>\n",
       "      <th>metadata_path</th>\n",
       "      <th>metadata_modification_time</th>\n",
       "      <th>dependencies_database</th>\n",
       "      <th>dependencies_table</th>\n",
       "      <th>...</th>\n",
       "      <th>partition_key</th>\n",
       "      <th>sorting_key</th>\n",
       "      <th>primary_key</th>\n",
       "      <th>sampling_key</th>\n",
       "      <th>storage_policy</th>\n",
       "      <th>total_rows</th>\n",
       "      <th>total_bytes</th>\n",
       "      <th>lifetime_rows</th>\n",
       "      <th>lifetime_bytes</th>\n",
       "      <th>comment</th>\n",
       "    </tr>\n",
       "  </thead>\n",
       "  <tbody>\n",
       "    <tr>\n",
       "      <th>0</th>\n",
       "      <td>default</td>\n",
       "      <td>.inner_id.3489d528-1eb4-44a7-b489-d5281eb444a7</td>\n",
       "      <td>e8556d44-1738-4a55-a855-6d441738ca55</td>\n",
       "      <td>AggregatingMergeTree</td>\n",
       "      <td>0</td>\n",
       "      <td>[/var/lib/clickhouse/store/e85/e8556d44-1738-4...</td>\n",
       "      <td>/var/lib/clickhouse/store/f4e/f4ec22fb-97dd-4d...</td>\n",
       "      <td>2021-08-16 01:49:58</td>\n",
       "      <td>[]</td>\n",
       "      <td>[]</td>\n",
       "      <td>...</td>\n",
       "      <td></td>\n",
       "      <td>Origin, Year, Month</td>\n",
       "      <td>Origin, Year, Month</td>\n",
       "      <td></td>\n",
       "      <td>default</td>\n",
       "      <td>59102.0</td>\n",
       "      <td>5.156530e+05</td>\n",
       "      <td>None</td>\n",
       "      <td>None</td>\n",
       "      <td></td>\n",
       "    </tr>\n",
       "    <tr>\n",
       "      <th>1</th>\n",
       "      <td>default</td>\n",
       "      <td>flight</td>\n",
       "      <td>eb198509-c1bb-4c28-ab19-8509c1bbfc28</td>\n",
       "      <td>MergeTree</td>\n",
       "      <td>0</td>\n",
       "      <td>[/var/lib/clickhouse/store/eb1/eb198509-c1bb-4...</td>\n",
       "      <td>/var/lib/clickhouse/store/f4e/f4ec22fb-97dd-4d...</td>\n",
       "      <td>2021-08-16 01:49:58</td>\n",
       "      <td>[default]</td>\n",
       "      <td>[flight_view]</td>\n",
       "      <td>...</td>\n",
       "      <td></td>\n",
       "      <td>Year</td>\n",
       "      <td>Year</td>\n",
       "      <td></td>\n",
       "      <td>default</td>\n",
       "      <td>123534969.0</td>\n",
       "      <td>3.001317e+09</td>\n",
       "      <td>None</td>\n",
       "      <td>None</td>\n",
       "      <td></td>\n",
       "    </tr>\n",
       "    <tr>\n",
       "      <th>2</th>\n",
       "      <td>default</td>\n",
       "      <td>flight_view</td>\n",
       "      <td>3489d528-1eb4-44a7-b489-d5281eb444a7</td>\n",
       "      <td>MaterializedView</td>\n",
       "      <td>0</td>\n",
       "      <td>[/var/lib/clickhouse/store/e85/e8556d44-1738-4...</td>\n",
       "      <td>/var/lib/clickhouse/store/f4e/f4ec22fb-97dd-4d...</td>\n",
       "      <td>2021-08-16 01:49:58</td>\n",
       "      <td>[]</td>\n",
       "      <td>[]</td>\n",
       "      <td>...</td>\n",
       "      <td></td>\n",
       "      <td></td>\n",
       "      <td></td>\n",
       "      <td></td>\n",
       "      <td></td>\n",
       "      <td>NaN</td>\n",
       "      <td>NaN</td>\n",
       "      <td>None</td>\n",
       "      <td>None</td>\n",
       "      <td></td>\n",
       "    </tr>\n",
       "    <tr>\n",
       "      <th>3</th>\n",
       "      <td>default</td>\n",
       "      <td>visits</td>\n",
       "      <td>a1ff40f8-d9ad-475e-a1ff-40f8d9ad375e</td>\n",
       "      <td>MergeTree</td>\n",
       "      <td>0</td>\n",
       "      <td>[/var/lib/clickhouse/disks/s3/store/a1f/a1ff40...</td>\n",
       "      <td>/var/lib/clickhouse/store/f4e/f4ec22fb-97dd-4d...</td>\n",
       "      <td>2021-08-18 14:48:04</td>\n",
       "      <td>[]</td>\n",
       "      <td>[]</td>\n",
       "      <td>...</td>\n",
       "      <td></td>\n",
       "      <td>id</td>\n",
       "      <td>id</td>\n",
       "      <td></td>\n",
       "      <td>s3</td>\n",
       "      <td>4.0</td>\n",
       "      <td>3.710000e+02</td>\n",
       "      <td>None</td>\n",
       "      <td>None</td>\n",
       "      <td></td>\n",
       "    </tr>\n",
       "  </tbody>\n",
       "</table>\n",
       "<p>4 rows × 22 columns</p>\n",
       "</div>"
      ],
      "text/plain": [
       "  database                                            name  \\\n",
       "0  default  .inner_id.3489d528-1eb4-44a7-b489-d5281eb444a7   \n",
       "1  default                                          flight   \n",
       "2  default                                     flight_view   \n",
       "3  default                                          visits   \n",
       "\n",
       "                                   uuid                engine  is_temporary  \\\n",
       "0  e8556d44-1738-4a55-a855-6d441738ca55  AggregatingMergeTree             0   \n",
       "1  eb198509-c1bb-4c28-ab19-8509c1bbfc28             MergeTree             0   \n",
       "2  3489d528-1eb4-44a7-b489-d5281eb444a7      MaterializedView             0   \n",
       "3  a1ff40f8-d9ad-475e-a1ff-40f8d9ad375e             MergeTree             0   \n",
       "\n",
       "                                          data_paths  \\\n",
       "0  [/var/lib/clickhouse/store/e85/e8556d44-1738-4...   \n",
       "1  [/var/lib/clickhouse/store/eb1/eb198509-c1bb-4...   \n",
       "2  [/var/lib/clickhouse/store/e85/e8556d44-1738-4...   \n",
       "3  [/var/lib/clickhouse/disks/s3/store/a1f/a1ff40...   \n",
       "\n",
       "                                       metadata_path  \\\n",
       "0  /var/lib/clickhouse/store/f4e/f4ec22fb-97dd-4d...   \n",
       "1  /var/lib/clickhouse/store/f4e/f4ec22fb-97dd-4d...   \n",
       "2  /var/lib/clickhouse/store/f4e/f4ec22fb-97dd-4d...   \n",
       "3  /var/lib/clickhouse/store/f4e/f4ec22fb-97dd-4d...   \n",
       "\n",
       "  metadata_modification_time dependencies_database dependencies_table  ...  \\\n",
       "0        2021-08-16 01:49:58                    []                 []  ...   \n",
       "1        2021-08-16 01:49:58             [default]      [flight_view]  ...   \n",
       "2        2021-08-16 01:49:58                    []                 []  ...   \n",
       "3        2021-08-18 14:48:04                    []                 []  ...   \n",
       "\n",
       "  partition_key          sorting_key          primary_key sampling_key  \\\n",
       "0                Origin, Year, Month  Origin, Year, Month                \n",
       "1                               Year                 Year                \n",
       "2                                                                        \n",
       "3                                 id                   id                \n",
       "\n",
       "  storage_policy   total_rows   total_bytes  lifetime_rows  lifetime_bytes  \\\n",
       "0        default      59102.0  5.156530e+05           None            None   \n",
       "1        default  123534969.0  3.001317e+09           None            None   \n",
       "2                         NaN           NaN           None            None   \n",
       "3             s3          4.0  3.710000e+02           None            None   \n",
       "\n",
       "  comment  \n",
       "0          \n",
       "1          \n",
       "2          \n",
       "3          \n",
       "\n",
       "[4 rows x 22 columns]"
      ]
     },
     "execution_count": 25,
     "metadata": {},
     "output_type": "execute_result"
    }
   ],
   "source": [
    "sql = \"select * from system.tables where database like 'default'\"\n",
    "pd.read_sql(sql, engine)"
   ]
  },
  {
   "cell_type": "code",
   "execution_count": 26,
   "metadata": {
    "ExecuteTime": {
     "end_time": "2020-02-25T04:54:49.670932Z",
     "start_time": "2020-02-25T04:54:49.563944Z"
    }
   },
   "outputs": [
    {
     "name": "stdout",
     "output_type": "stream",
     "text": [
      "Year\n",
      "Month\n",
      "DayofMonth\n",
      "DayOfWeek\n",
      "DepTime\n",
      "CRSDepTime\n",
      "ArrTime\n",
      "CRSArrTime\n",
      "UniqueCarrier\n",
      "FlightNum\n",
      "TailNum\n",
      "ActualElapsedTime\n",
      "CRSElapsedTime\n",
      "AirTime\n",
      "ArrDelay\n",
      "DepDelay\n",
      "Origin\n",
      "Dest\n",
      "Distance\n",
      "TaxiIn\n",
      "TaxiOut\n",
      "Cancelled\n",
      "CancellationCode\n",
      "Diverted\n",
      "CarrierDelay\n",
      "WeatherDelay\n",
      "NASDelay\n",
      "SecurityDelay\n",
      "LateAircraftDelay\n"
     ]
    }
   ],
   "source": [
    "metadata = sa.MetaData(bind=engine)\n",
    "metadata.reflect(only=['flight'])\n",
    "flight_tbl = metadata.tables['flight']\n",
    "\n",
    "for column in flight_tbl.columns:\n",
    "    print(column.name)"
   ]
  },
  {
   "cell_type": "markdown",
   "metadata": {},
   "source": [
    "Use SqlAlchemy ORM to query the database"
   ]
  },
  {
   "cell_type": "code",
   "execution_count": 27,
   "metadata": {
    "ExecuteTime": {
     "end_time": "2020-02-25T04:54:52.691137Z",
     "start_time": "2020-02-25T04:54:52.132233Z"
    }
   },
   "outputs": [
    {
     "name": "stdout",
     "output_type": "stream",
     "text": [
      "(1988, 2, 29, 1, 957, 1000, 1054, 1104, 'PI', 894, None, 57, 64, None, -10, -3, 'DCA', 'SYR', 298, None, None, 0, None, 0, None, None, None, None, None)\n",
      "(1988, 2, 29, 1, 704, 705, 746, 749, 'PI', 894, None, 42, 44, None, -3, -1, 'JAX', 'CHS', 193, None, None, 0, None, 0, None, None, None, None, None)\n",
      "(1988, 2, 29, 1, 1121, 1125, 1204, 1200, 'PI', 894, None, 43, 35, None, 4, -4, 'SYR', 'BUF', 134, None, None, 0, None, 0, None, None, None, None, None)\n",
      "(1988, 2, 29, 1, 1624, 1625, 1711, 1710, 'PI', 895, None, 47, 45, None, 1, -1, 'JFK', 'BDL', 106, None, None, 0, None, 0, None, None, None, None, None)\n",
      "(1988, 2, 29, 1, 2200, 2147, 2230, 2227, 'PI', 896, None, 30, 40, None, 3, 13, 'BWI', 'CHO', 120, None, None, 0, None, 0, None, None, None, None, None)\n",
      "(1988, 2, 29, 1, 1825, 1820, 1929, 1930, 'PI', 896, None, 64, 70, None, -1, 5, 'LGA', 'ROC', 254, None, None, 0, None, 0, None, None, None, None, None)\n",
      "(1988, 2, 29, 1, 1954, 2000, 2057, 2104, 'PI', 896, None, 63, 64, None, -7, -6, 'ROC', 'BWI', 277, None, None, 0, None, 0, None, None, None, None, None)\n",
      "(1988, 2, 29, 1, 1800, 1800, 1848, 1850, 'PI', 897, None, 48, 50, None, -2, 0, 'BDL', 'EWR', 116, None, None, 0, None, 0, None, None, None, None, None)\n",
      "(1988, 2, 29, 1, 1912, 1915, 1957, 2000, 'PI', 897, None, 45, 45, None, -3, -3, 'EWR', 'UCA', 180, None, None, 0, None, 0, None, None, None, None, None)\n",
      "(1988, 2, 29, 1, 632, 630, 713, 705, 'PI', 898, None, 41, 35, None, 8, 2, 'BUF', 'SYR', 134, None, None, 0, None, 0, None, None, None, None, None)\n"
     ]
    }
   ],
   "source": [
    "Session = sessionmaker(bind=engine)\n",
    "session = Session()\n",
    "\n",
    "qry = session.query(flight_tbl)\n",
    "\n",
    "for row in session.query(flight_tbl).filter(\n",
    "        flight_tbl.c.Month == 2, flight_tbl.c.DayofMonth == 29).limit(10):\n",
    "    print(row)"
   ]
  }
 ],
 "metadata": {
  "kernelspec": {
   "display_name": "Python 3 (ipykernel)",
   "language": "python",
   "name": "python3"
  },
  "language_info": {
   "codemirror_mode": {
    "name": "ipython",
    "version": 3
   },
   "file_extension": ".py",
   "mimetype": "text/x-python",
   "name": "python",
   "nbconvert_exporter": "python",
   "pygments_lexer": "ipython3",
   "version": "3.8.10"
  },
  "toc": {
   "base_numbering": 1,
   "nav_menu": {},
   "number_sections": true,
   "sideBar": true,
   "skip_h1_title": false,
   "title_cell": "Table of Contents",
   "title_sidebar": "Contents",
   "toc_cell": false,
   "toc_position": {},
   "toc_section_display": true,
   "toc_window_display": false
  }
 },
 "nbformat": 4,
 "nbformat_minor": 4
}
