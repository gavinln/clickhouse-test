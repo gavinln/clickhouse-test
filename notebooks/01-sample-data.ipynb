{
 "cells": [
  {
   "cell_type": "markdown",
   "metadata": {
    "Collapsed": "false"
   },
   "source": [
    "# 01-Sample data"
   ]
  },
  {
   "cell_type": "code",
   "execution_count": 47,
   "metadata": {
    "Collapsed": "false",
    "ExecuteTime": {
     "end_time": "2020-02-24T04:01:08.698625Z",
     "start_time": "2020-02-24T04:01:08.647861Z"
    }
   },
   "outputs": [],
   "source": [
    "import pandas as pd\n",
    "import sqlalchemy as sa\n",
    "from sqlalchemy.orm import sessionmaker\n",
    "from sqlalchemy import func\n",
    "\n",
    "import clickhouse_util as ch_util"
   ]
  },
  {
   "cell_type": "code",
   "execution_count": 48,
   "metadata": {
    "ExecuteTime": {
     "end_time": "2020-02-24T04:01:09.122014Z",
     "start_time": "2020-02-24T04:01:09.060560Z"
    }
   },
   "outputs": [
    {
     "name": "stdout",
     "output_type": "stream",
     "text": [
      "The autoreload extension is already loaded. To reload it, use:\n",
      "  %reload_ext autoreload\n"
     ]
    }
   ],
   "source": [
    "%load_ext autoreload\n",
    "%autoreload 2"
   ]
  },
  {
   "cell_type": "code",
   "execution_count": 49,
   "metadata": {
    "ExecuteTime": {
     "end_time": "2020-02-24T04:01:09.466022Z",
     "start_time": "2020-02-24T04:01:09.420586Z"
    }
   },
   "outputs": [],
   "source": [
    "import ibis"
   ]
  },
  {
   "cell_type": "markdown",
   "metadata": {},
   "source": [
    "Create SqlAlchemy engine"
   ]
  },
  {
   "cell_type": "code",
   "execution_count": 50,
   "metadata": {
    "Collapsed": "false",
    "ExecuteTime": {
     "end_time": "2020-02-24T04:01:10.324846Z",
     "start_time": "2020-02-24T04:01:10.281327Z"
    }
   },
   "outputs": [],
   "source": [
    "ch_url = 'clickhouse://default@10.0.0.2:8123/default'\n",
    "engine = sa.create_engine(ch_url)"
   ]
  },
  {
   "cell_type": "code",
   "execution_count": 51,
   "metadata": {
    "ExecuteTime": {
     "end_time": "2020-02-24T04:01:25.782056Z",
     "start_time": "2020-02-24T04:01:10.689068Z"
    }
   },
   "outputs": [],
   "source": [
    "table = 'flight'\n",
    "flight_null_count = ch_util.get_null_count(ch_url, table)"
   ]
  },
  {
   "cell_type": "code",
   "execution_count": 52,
   "metadata": {
    "ExecuteTime": {
     "end_time": "2020-02-24T04:01:25.842817Z",
     "start_time": "2020-02-24T04:01:25.784935Z"
    }
   },
   "outputs": [
    {
     "data": {
      "text/plain": [
       "{'Year': 0,\n",
       " 'Month': 0,\n",
       " 'DayofMonth': 0,\n",
       " 'DayOfWeek': 0,\n",
       " 'DepTime': 2302136,\n",
       " 'CRSDepTime': 0,\n",
       " 'ArrTime': 2584478,\n",
       " 'CRSArrTime': 0,\n",
       " 'UniqueCarrier': 0,\n",
       " 'FlightNum': 0,\n",
       " 'TailNum': 37385420,\n",
       " 'ActualElapsedTime': 2587529,\n",
       " 'CRSElapsedTime': 26234,\n",
       " 'AirTime': 39266398,\n",
       " 'ArrDelay': 2587529,\n",
       " 'DepDelay': 2302136,\n",
       " 'Origin': 0,\n",
       " 'Dest': 0,\n",
       " 'Distance': 202000,\n",
       " 'TaxiIn': 37397295,\n",
       " 'TaxiOut': 37382704,\n",
       " 'Cancelled': 0,\n",
       " 'CancellationCode': 122800263,\n",
       " 'Diverted': 0,\n",
       " 'CarrierDelay': 89329433,\n",
       " 'WeatherDelay': 89329433,\n",
       " 'NASDelay': 89329433,\n",
       " 'SecurityDelay': 89329433,\n",
       " 'LateAircraftDelay': 89329433}"
      ]
     },
     "execution_count": 52,
     "metadata": {},
     "output_type": "execute_result"
    }
   ],
   "source": [
    "flight_null_count"
   ]
  },
  {
   "cell_type": "markdown",
   "metadata": {},
   "source": [
    "Use pandas to read from SqlAlchemy engine"
   ]
  },
  {
   "cell_type": "code",
   "execution_count": 17,
   "metadata": {
    "Collapsed": "false",
    "ExecuteTime": {
     "end_time": "2020-02-24T03:43:39.793878Z",
     "start_time": "2020-02-24T03:43:24.369358Z"
    }
   },
   "outputs": [],
   "source": [
    "sql = 'select * from flight limit 100000'\n",
    "df = pd.read_sql(sql, engine)"
   ]
  },
  {
   "cell_type": "markdown",
   "metadata": {},
   "source": [
    "Get column names and types for a table"
   ]
  },
  {
   "cell_type": "code",
   "execution_count": 18,
   "metadata": {
    "ExecuteTime": {
     "end_time": "2020-02-24T03:43:39.892719Z",
     "start_time": "2020-02-24T03:43:39.795794Z"
    }
   },
   "outputs": [
    {
     "name": "stdout",
     "output_type": "stream",
     "text": [
      "Year\n"
     ]
    }
   ],
   "source": [
    "metadata = sa.MetaData(bind=engine)\n",
    "metadata.reflect(only=['flight'])\n",
    "flight_tbl = metadata.tables['flight']\n",
    "\n",
    "# cannot access type for nullable types in Clickhouse\n",
    "for column in flight_tbl.columns:\n",
    "    print(column.name)\n",
    "    break"
   ]
  },
  {
   "cell_type": "code",
   "execution_count": 21,
   "metadata": {
    "ExecuteTime": {
     "end_time": "2020-02-24T03:44:06.223773Z",
     "start_time": "2020-02-24T03:44:06.173057Z"
    }
   },
   "outputs": [
    {
     "name": "stdout",
     "output_type": "stream",
     "text": [
      "flight.Year\n"
     ]
    }
   ],
   "source": [
    "for col in flight_tbl.columns:\n",
    "    print(col)\n",
    "    break"
   ]
  },
  {
   "cell_type": "code",
   "execution_count": 22,
   "metadata": {
    "ExecuteTime": {
     "end_time": "2020-02-24T03:44:12.162496Z",
     "start_time": "2020-02-24T03:44:12.110082Z"
    }
   },
   "outputs": [
    {
     "data": {
      "text/plain": [
       "'Year'"
      ]
     },
     "execution_count": 22,
     "metadata": {},
     "output_type": "execute_result"
    }
   ],
   "source": [
    "col.name"
   ]
  },
  {
   "cell_type": "markdown",
   "metadata": {},
   "source": [
    "Use SqlAlchemy ORM to query the database"
   ]
  },
  {
   "cell_type": "code",
   "execution_count": 10,
   "metadata": {
    "ExecuteTime": {
     "end_time": "2020-02-24T03:35:35.890209Z",
     "start_time": "2020-02-24T03:35:35.776673Z"
    }
   },
   "outputs": [
    {
     "name": "stdout",
     "output_type": "stream",
     "text": [
      "(1988, 2, 29, 1, 957, 1000, 1054, 1104, 'PI', 894, None, 57, 64, None, -10, -3, 'DCA', 'SYR', 298, None, None, 0, None, 0, None, None, None, None, None)\n",
      "(1988, 2, 29, 1, 704, 705, 746, 749, 'PI', 894, None, 42, 44, None, -3, -1, 'JAX', 'CHS', 193, None, None, 0, None, 0, None, None, None, None, None)\n",
      "(1988, 2, 29, 1, 1121, 1125, 1204, 1200, 'PI', 894, None, 43, 35, None, 4, -4, 'SYR', 'BUF', 134, None, None, 0, None, 0, None, None, None, None, None)\n",
      "(1988, 2, 29, 1, 1624, 1625, 1711, 1710, 'PI', 895, None, 47, 45, None, 1, -1, 'JFK', 'BDL', 106, None, None, 0, None, 0, None, None, None, None, None)\n",
      "(1988, 2, 29, 1, 2200, 2147, 2230, 2227, 'PI', 896, None, 30, 40, None, 3, 13, 'BWI', 'CHO', 120, None, None, 0, None, 0, None, None, None, None, None)\n",
      "(1988, 2, 29, 1, 1825, 1820, 1929, 1930, 'PI', 896, None, 64, 70, None, -1, 5, 'LGA', 'ROC', 254, None, None, 0, None, 0, None, None, None, None, None)\n",
      "(1988, 2, 29, 1, 1954, 2000, 2057, 2104, 'PI', 896, None, 63, 64, None, -7, -6, 'ROC', 'BWI', 277, None, None, 0, None, 0, None, None, None, None, None)\n",
      "(1988, 2, 29, 1, 1800, 1800, 1848, 1850, 'PI', 897, None, 48, 50, None, -2, 0, 'BDL', 'EWR', 116, None, None, 0, None, 0, None, None, None, None, None)\n",
      "(1988, 2, 29, 1, 1912, 1915, 1957, 2000, 'PI', 897, None, 45, 45, None, -3, -3, 'EWR', 'UCA', 180, None, None, 0, None, 0, None, None, None, None, None)\n",
      "(1988, 2, 29, 1, 632, 630, 713, 705, 'PI', 898, None, 41, 35, None, 8, 2, 'BUF', 'SYR', 134, None, None, 0, None, 0, None, None, None, None, None)\n"
     ]
    }
   ],
   "source": [
    "Session = sessionmaker(bind=engine)\n",
    "session = Session()\n",
    "\n",
    "qry = session.query(flight_tbl)\n",
    "\n",
    "for row in session.query(flight_tbl).filter(\n",
    "        flight_tbl.c.Month == 2, flight_tbl.c.DayofMonth == 29).limit(10):\n",
    "    print(row)"
   ]
  },
  {
   "cell_type": "code",
   "execution_count": 11,
   "metadata": {
    "ExecuteTime": {
     "end_time": "2020-02-24T03:35:47.304834Z",
     "start_time": "2020-02-24T03:35:47.300993Z"
    }
   },
   "outputs": [],
   "source": [
    "conn = ibis.clickhouse.connect(host='10.0.0.2', port=9000, database='default')"
   ]
  },
  {
   "cell_type": "markdown",
   "metadata": {},
   "source": [
    "Get metadata for flight table"
   ]
  },
  {
   "cell_type": "code",
   "execution_count": 14,
   "metadata": {
    "ExecuteTime": {
     "end_time": "2020-02-24T03:36:06.634856Z",
     "start_time": "2020-02-24T03:36:06.591021Z"
    }
   },
   "outputs": [],
   "source": [
    "sql = '''\n",
    "select database, table, name, type\n",
    "from system.columns\n",
    "where database = 'default'\n",
    "    and table = 'flight'\n",
    "'''\n",
    "df2 = pd.read_sql(sql, engine)"
   ]
  },
  {
   "cell_type": "code",
   "execution_count": 15,
   "metadata": {
    "ExecuteTime": {
     "end_time": "2020-02-24T03:36:07.585055Z",
     "start_time": "2020-02-24T03:36:07.573060Z"
    }
   },
   "outputs": [
    {
     "data": {
      "text/html": [
       "<div>\n",
       "<style scoped>\n",
       "    .dataframe tbody tr th:only-of-type {\n",
       "        vertical-align: middle;\n",
       "    }\n",
       "\n",
       "    .dataframe tbody tr th {\n",
       "        vertical-align: top;\n",
       "    }\n",
       "\n",
       "    .dataframe thead th {\n",
       "        text-align: right;\n",
       "    }\n",
       "</style>\n",
       "<table border=\"1\" class=\"dataframe\">\n",
       "  <thead>\n",
       "    <tr style=\"text-align: right;\">\n",
       "      <th></th>\n",
       "      <th>database</th>\n",
       "      <th>table</th>\n",
       "      <th>name</th>\n",
       "      <th>type</th>\n",
       "    </tr>\n",
       "  </thead>\n",
       "  <tbody>\n",
       "    <tr>\n",
       "      <th>0</th>\n",
       "      <td>default</td>\n",
       "      <td>flight</td>\n",
       "      <td>Year</td>\n",
       "      <td>Int16</td>\n",
       "    </tr>\n",
       "    <tr>\n",
       "      <th>1</th>\n",
       "      <td>default</td>\n",
       "      <td>flight</td>\n",
       "      <td>Month</td>\n",
       "      <td>Int8</td>\n",
       "    </tr>\n",
       "    <tr>\n",
       "      <th>2</th>\n",
       "      <td>default</td>\n",
       "      <td>flight</td>\n",
       "      <td>DayofMonth</td>\n",
       "      <td>Int16</td>\n",
       "    </tr>\n",
       "    <tr>\n",
       "      <th>3</th>\n",
       "      <td>default</td>\n",
       "      <td>flight</td>\n",
       "      <td>DayOfWeek</td>\n",
       "      <td>Int8</td>\n",
       "    </tr>\n",
       "    <tr>\n",
       "      <th>4</th>\n",
       "      <td>default</td>\n",
       "      <td>flight</td>\n",
       "      <td>DepTime</td>\n",
       "      <td>Nullable(Int16)</td>\n",
       "    </tr>\n",
       "  </tbody>\n",
       "</table>\n",
       "</div>"
      ],
      "text/plain": [
       "  database   table        name             type\n",
       "0  default  flight        Year            Int16\n",
       "1  default  flight       Month             Int8\n",
       "2  default  flight  DayofMonth            Int16\n",
       "3  default  flight   DayOfWeek             Int8\n",
       "4  default  flight     DepTime  Nullable(Int16)"
      ]
     },
     "execution_count": 15,
     "metadata": {},
     "output_type": "execute_result"
    }
   ],
   "source": [
    "df2.head()"
   ]
  },
  {
   "cell_type": "code",
   "execution_count": 16,
   "metadata": {
    "ExecuteTime": {
     "end_time": "2020-02-24T03:36:09.999870Z",
     "start_time": "2020-02-24T03:36:09.889349Z"
    }
   },
   "outputs": [],
   "source": [
    "table = conn.table('flight')\n",
    "ibis.options.interactive = True"
   ]
  },
  {
   "cell_type": "code",
   "execution_count": 20,
   "metadata": {
    "ExecuteTime": {
     "end_time": "2020-02-24T03:36:37.548439Z",
     "start_time": "2020-02-24T03:36:36.635200Z"
    }
   },
   "outputs": [
    {
     "data": {
      "text/plain": [
       "86149549"
      ]
     },
     "execution_count": 20,
     "metadata": {},
     "output_type": "execute_result"
    }
   ],
   "source": [
    "table.TailNum.count()"
   ]
  },
  {
   "cell_type": "code",
   "execution_count": 21,
   "metadata": {
    "ExecuteTime": {
     "end_time": "2020-02-24T03:36:38.650044Z",
     "start_time": "2020-02-24T03:36:38.539450Z"
    }
   },
   "outputs": [
    {
     "data": {
      "text/plain": [
       "123534969"
      ]
     },
     "execution_count": 21,
     "metadata": {},
     "output_type": "execute_result"
    }
   ],
   "source": [
    "table.count()"
   ]
  },
  {
   "cell_type": "code",
   "execution_count": 22,
   "metadata": {
    "Collapsed": "false",
    "ExecuteTime": {
     "end_time": "2020-02-24T03:36:39.599854Z",
     "start_time": "2020-02-24T03:36:39.509002Z"
    },
    "jupyter": {
     "outputs_hidden": true
    }
   },
   "outputs": [
    {
     "data": {
      "text/plain": [
       "Year                   0.000\n",
       "Month                  0.000\n",
       "DayofMonth             0.000\n",
       "DayOfWeek              0.000\n",
       "DepTime                2.763\n",
       "CRSDepTime             0.000\n",
       "ArrTime                3.085\n",
       "CRSArrTime             0.000\n",
       "UniqueCarrier          0.000\n",
       "FlightNum              0.000\n",
       "TailNum               49.152\n",
       "ActualElapsedTime      3.085\n",
       "CRSElapsedTime         0.001\n",
       "AirTime               51.877\n",
       "ArrDelay               3.085\n",
       "DepDelay               2.763\n",
       "Origin                 0.000\n",
       "Dest                   0.000\n",
       "Distance               0.000\n",
       "TaxiIn                49.152\n",
       "TaxiOut               49.152\n",
       "Cancelled              0.000\n",
       "CancellationCode     100.000\n",
       "Diverted               0.000\n",
       "CarrierDelay         100.000\n",
       "WeatherDelay         100.000\n",
       "NASDelay             100.000\n",
       "SecurityDelay        100.000\n",
       "LateAircraftDelay    100.000\n",
       "dtype: float64"
      ]
     },
     "execution_count": 22,
     "metadata": {},
     "output_type": "execute_result"
    }
   ],
   "source": [
    "df.isna().sum() * 100/df.shape[0]"
   ]
  },
  {
   "cell_type": "code",
   "execution_count": null,
   "metadata": {},
   "outputs": [],
   "source": []
  }
 ],
 "metadata": {
  "kernelspec": {
   "display_name": "Python 3",
   "language": "python",
   "name": "python3"
  },
  "language_info": {
   "codemirror_mode": {
    "name": "ipython",
    "version": 3
   },
   "file_extension": ".py",
   "mimetype": "text/x-python",
   "name": "python",
   "nbconvert_exporter": "python",
   "pygments_lexer": "ipython3",
   "version": "3.7.6"
  }
 },
 "nbformat": 4,
 "nbformat_minor": 4
}
